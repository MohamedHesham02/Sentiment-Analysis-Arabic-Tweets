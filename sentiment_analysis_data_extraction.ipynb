{
  "cells": [
    {
      "cell_type": "markdown",
      "metadata": {
        "id": "view-in-github",
        "colab_type": "text"
      },
      "source": [
        "<a href=\"https://colab.research.google.com/github/MohamedHesham02/Sentiment-Analysis-Arabic-Tweets/blob/main/sentiment_analysis_data_extraction.ipynb\" target=\"_parent\"><img src=\"https://colab.research.google.com/assets/colab-badge.svg\" alt=\"Open In Colab\"/></a>"
      ]
    },
    {
      "cell_type": "code",
      "execution_count": null,
      "metadata": {
        "id": "CnIvw4Jk6pB0"
      },
      "outputs": [],
      "source": [
        "import pandas as pd\n",
        "import requests, json"
      ]
    },
    {
      "cell_type": "markdown",
      "source": [
        "# Importing IDs sheets to scrape the data from API"
      ],
      "metadata": {
        "id": "ayH7zGTKrULz"
      }
    },
    {
      "cell_type": "code",
      "source": [
        "filename = 'dialect_dataset.csv'\n",
        "data = pd.read_csv(filename)"
      ],
      "metadata": {
        "id": "QNP179ISLDLx"
      },
      "execution_count": null,
      "outputs": []
    },
    {
      "cell_type": "code",
      "execution_count": null,
      "metadata": {
        "id": "ASDeBPbD67hf"
      },
      "outputs": [],
      "source": [
        "url = 'https://recruitment.aimtechnologies.co/ai-tasks'\n",
        "tweets = []"
      ]
    },
    {
      "cell_type": "code",
      "execution_count": null,
      "metadata": {
        "colab": {
          "base_uri": "https://localhost:8080/"
        },
        "id": "_rSRRRdDqfyF",
        "outputId": "f5fae5aa-b79d-4df6-ff94-1d0a77b0ebdf"
      },
      "outputs": [
        {
          "output_type": "execute_result",
          "data": {
            "text/plain": [
              "1175358310087892992"
            ]
          },
          "metadata": {},
          "execution_count": 24
        }
      ],
      "source": [
        "data['id'][0]"
      ]
    },
    {
      "cell_type": "code",
      "execution_count": null,
      "metadata": {
        "id": "RuAuUqwfxAS5",
        "colab": {
          "base_uri": "https://localhost:8080/"
        },
        "outputId": "17aa0c01-45a4-4ba2-ef3e-a9cfaf455126"
      },
      "outputs": [
        {
          "output_type": "execute_result",
          "data": {
            "text/plain": [
              "458197"
            ]
          },
          "metadata": {},
          "execution_count": 25
        }
      ],
      "source": [
        "len(data['id'])"
      ]
    },
    {
      "cell_type": "markdown",
      "source": [
        "# Getting samples from every class to be well-balanced testing sample on the used preprocessing and training techniques \n",
        "\n"
      ],
      "metadata": {
        "id": "vBaMMg5hri95"
      }
    },
    {
      "cell_type": "code",
      "execution_count": null,
      "metadata": {
        "id": "v_sMNUwNyQJy"
      },
      "outputs": [],
      "source": [
        "## Ranges represent position of every class in the dataset\n",
        "ranges = [0, 17200, 54000, 92000, 131000, 145000, 170700, 184400, 194500, 219400, 235500, 246600, 313300, 340200, 377600, 405000, 419100, 439200]"
      ]
    },
    {
      "cell_type": "code",
      "execution_count": null,
      "metadata": {
        "id": "VvUvZm1RJFCq"
      },
      "outputs": [],
      "source": [
        "#data['tweet'] = 0"
      ]
    },
    {
      "cell_type": "code",
      "execution_count": null,
      "metadata": {
        "id": "yEGyfTo3Eq8P",
        "colab": {
          "base_uri": "https://localhost:8080/"
        },
        "outputId": "c8b9534b-8293-4165-8c69-525a01227c80"
      },
      "outputs": [
        {
          "output_type": "stream",
          "name": "stdout",
          "text": [
            "Mounted at /content/drive\n"
          ]
        }
      ],
      "source": [
        "from google.colab import drive\n",
        "drive.mount('/content/drive') "
      ]
    },
    {
      "cell_type": "code",
      "execution_count": null,
      "metadata": {
        "id": "VO8bEjuN7AqL",
        "colab": {
          "base_uri": "https://localhost:8080/"
        },
        "outputId": "17752c63-b4b0-4416-f0ae-8f93aca0cc13"
      },
      "outputs": [
        {
          "output_type": "stream",
          "name": "stdout",
          "text": [
            "145000\n"
          ]
        },
        {
          "output_type": "stream",
          "name": "stderr",
          "text": [
            "/usr/local/lib/python3.7/dist-packages/ipykernel_launcher.py:9: SettingWithCopyWarning: \n",
            "A value is trying to be set on a copy of a slice from a DataFrame\n",
            "\n",
            "See the caveats in the documentation: https://pandas.pydata.org/pandas-docs/stable/user_guide/indexing.html#returning-a-view-versus-a-copy\n",
            "  if __name__ == '__main__':\n"
          ]
        },
        {
          "output_type": "stream",
          "name": "stdout",
          "text": [
            "170700\n",
            "184400\n",
            "194500\n",
            "219400\n",
            "235500\n",
            "246600\n",
            "313300\n",
            "340200\n",
            "377600\n",
            "405000\n",
            "419100\n",
            "439200\n"
          ]
        }
      ],
      "source": [
        "for k in ranges:\n",
        "  print(k)\n",
        "  for index in range(k, k+1200):\n",
        "    id = data['id'][index]\n",
        "    id_formalization = [str(id)]\n",
        "    request_content = requests.post( url, data=json.dumps(id_formalization)).content\n",
        "    out = json.loads(request_content)\n",
        "    data['tweet'][index] = out[str(id)]\n",
        "    data.to_csv('/content/drive/MyDrive/n_nntry.csv')"
      ]
    },
    {
      "cell_type": "code",
      "execution_count": null,
      "metadata": {
        "id": "-vuE8H_TV8Te"
      },
      "outputs": [],
      "source": [
        "print('done')"
      ]
    },
    {
      "cell_type": "code",
      "source": [
        "data['tweet'][5000]"
      ],
      "metadata": {
        "colab": {
          "base_uri": "https://localhost:8080/",
          "height": 35
        },
        "id": "lZbqaPf8HypK",
        "outputId": "4f608e73-47db-4c2d-d95e-602a73eff4d5"
      },
      "execution_count": null,
      "outputs": [
        {
          "output_type": "execute_result",
          "data": {
            "text/plain": [
              "'0'"
            ],
            "application/vnd.google.colaboratory.intrinsic+json": {
              "type": "string"
            }
          },
          "metadata": {},
          "execution_count": 6
        }
      ]
    },
    {
      "cell_type": "code",
      "execution_count": null,
      "metadata": {
        "id": "hOlmE3nVBu9U"
      },
      "outputs": [],
      "source": [
        "sub_data = data[data['tweet'] != '0']"
      ]
    },
    {
      "cell_type": "code",
      "execution_count": null,
      "metadata": {
        "id": "AyvoGl0-I54n",
        "colab": {
          "base_uri": "https://localhost:8080/"
        },
        "outputId": "68bba588-7526-4e4e-93e8-86834afcced9"
      },
      "outputs": [
        {
          "output_type": "stream",
          "name": "stdout",
          "text": [
            "<class 'pandas.core.frame.DataFrame'>\n",
            "Int64Index: 20833 entries, 0 to 439632\n",
            "Data columns (total 5 columns):\n",
            " #   Column        Non-Null Count  Dtype \n",
            "---  ------        --------------  ----- \n",
            " 0   Unnamed: 0    20833 non-null  int64 \n",
            " 1   Unnamed: 0.1  20833 non-null  int64 \n",
            " 2   id            20833 non-null  int64 \n",
            " 3   dialect       20833 non-null  object\n",
            " 4   tweet         20833 non-null  object\n",
            "dtypes: int64(3), object(2)\n",
            "memory usage: 976.5+ KB\n"
          ]
        }
      ],
      "source": [
        "sub_data.info()"
      ]
    },
    {
      "cell_type": "code",
      "execution_count": null,
      "metadata": {
        "id": "pTypy3lsDdC6"
      },
      "outputs": [],
      "source": [
        "sub_data.to_csv('final.csv')"
      ]
    },
    {
      "cell_type": "code",
      "execution_count": null,
      "metadata": {
        "id": "nA2_KqElEtEb"
      },
      "outputs": [],
      "source": [
        "sub_data.to_csv('/content/drive/MyDrive/final.csv')"
      ]
    },
    {
      "cell_type": "code",
      "execution_count": null,
      "metadata": {
        "id": "i4C7cBGQvbSx"
      },
      "outputs": [],
      "source": [
        ""
      ]
    }
  ],
  "metadata": {
    "colab": {
      "collapsed_sections": [],
      "name": "sentiment_analysis_data_extraction.ipynb",
      "provenance": [],
      "include_colab_link": true
    },
    "kernelspec": {
      "display_name": "Python 3",
      "name": "python3"
    },
    "language_info": {
      "name": "python"
    }
  },
  "nbformat": 4,
  "nbformat_minor": 0
}